{
 "cells": [
  {
   "cell_type": "code",
   "execution_count": 27,
   "metadata": {},
   "outputs": [],
   "source": [
    "import os\n",
    "import cv2\n",
    "import numpy as np\n",
    "from sklearn.model_selection import train_test_split\n",
    "from sklearn.svm import SVC\n",
    "from sklearn.metrics import classification_report, accuracy_score\n",
    "from tensorflow.keras.models import Sequential\n",
    "from tensorflow.keras.layers import Conv2D, MaxPooling2D, Flatten, Dense, Dropout\n",
    "from tensorflow.keras.utils import to_categorical\n",
    "from skimage.feature import local_binary_pattern, hog, graycomatrix, graycoprops\n",
    "from sklearn.ensemble import RandomForestClassifier, StackingClassifier\n",
    "from xgboost import XGBClassifier\n",
    "import pickle\n",
    "from sklearn.model_selection import train_test_split\n",
    "from sklearn.svm import SVC\n",
    "from sklearn.linear_model import LogisticRegression"
   ]
  },
  {
   "cell_type": "code",
   "execution_count": 25,
   "metadata": {},
   "outputs": [],
   "source": [
    "def isskin(image):\n",
    "    # Get current positions of trackbars\n",
    "    h_min = 0\n",
    "    h_max = 128\n",
    "    s_min = 100\n",
    "    s_max = 150\n",
    "    v_min = 0\n",
    "    v_max = 128\n",
    "\n",
    "    # Convert the image to HSV color space\n",
    "    hsv_image = cv2.cvtColor(image, cv2.COLOR_BGR2HSV)\n",
    "\n",
    "    # Define lower and upper bounds for skin detection\n",
    "    lower_hsv = np.array([h_min, s_min, v_min])\n",
    "    upper_hsv = np.array([h_max, s_max, v_max])\n",
    "\n",
    "    # Create a binary mask where skin regions are white\n",
    "    skinMask = cv2.inRange(hsv_image, lower_hsv, upper_hsv)\n",
    "\n",
    "    # Optional: Apply morphological operations to clean up the mask\n",
    "    kernel = cv2.getStructuringElement(cv2.MORPH_ELLIPSE, (5, 5))\n",
    "    skinMask = cv2.erode(skinMask, kernel, iterations=2)\n",
    "    skinMask = cv2.dilate(skinMask, kernel, iterations=2)\n",
    "\n",
    "    # Blur the mask to smooth the edges\n",
    "    skinMask = cv2.GaussianBlur(skinMask, (5, 5), 0)\n",
    "\n",
    "    # Apply the mask to the original image\n",
    "    skin = cv2.bitwise_and(image, image, mask=skinMask)\n",
    "\n",
    "    alpha = np.uint8(skinMask > 0) * 255\n",
    "    result = cv2.merge((skin, alpha))\n",
    "\n",
    "    # cv2.imwrite(\"skin_detection_result.png\", result)\n",
    "    # result.istype()\n",
    "    # Return the processed image\n",
    "    return result"
   ]
  },
  {
   "cell_type": "code",
   "execution_count": 31,
   "metadata": {},
   "outputs": [],
   "source": [
    "# Skin Segmentation\n",
    "def extract_skin_and_preprocess(img):\n",
    "    skin_img = isskin(img)\n",
    "\n",
    "    if skin_img.shape[2] == 4:\n",
    "        skin_img = skin_img[:, :, :3] \n",
    "    denoised = cv2.fastNlMeansDenoising(skin_img, h=10)\n",
    "    img_resized = cv2.resize(denoised, (128, 128))\n",
    "\n",
    "    # Convert to grayscale\n",
    "    gray = cv2.cvtColor(img_resized, cv2.COLOR_BGR2GRAY)\n",
    "    return gray"
   ]
  },
  {
   "cell_type": "code",
   "execution_count": 28,
   "metadata": {},
   "outputs": [],
   "source": [
    "def load_data(dataset_path):\n",
    "    classes = {'Acne': 0, 'Bags': 1, 'Redness': 2}  # Map class names to labels\n",
    "    X, y = [], []\n",
    "    for class_name, label in classes.items():\n",
    "        class_path = os.path.join(dataset_path, class_name)\n",
    "        if not os.path.exists(class_path):\n",
    "            print(f\"Folder not found: {class_path}\")\n",
    "            continue\n",
    "        for subfolder in os.listdir(class_path):  # Iterate through subfolders (0-10)\n",
    "            subfolder_path = os.path.join(class_path, subfolder)\n",
    "            if os.path.isdir(subfolder_path):\n",
    "                for img_name in os.listdir(subfolder_path):  # Iterate through images\n",
    "                    img_path = os.path.join(subfolder_path, img_name)\n",
    "                    img = cv2.imread(img_path)\n",
    "                    if img is not None:\n",
    "                        img = extract_skin_and_preprocess(img_path)\n",
    "                        X.append(img)\n",
    "                        y.append(label)\n",
    "                    else:\n",
    "                        print(f\"Failed to load image: {img_path}\")\n",
    "    print(f\"Loaded {len(X)} images from {len(classes)} classes.\")\n",
    "    return np.array(X), np.array(y)"
   ]
  },
  {
   "cell_type": "code",
   "execution_count": 6,
   "metadata": {},
   "outputs": [
    {
     "name": "stdout",
     "output_type": "stream",
     "text": [
      "Loaded 470 images from 3 classes.\n"
     ]
    }
   ],
   "source": [
    "# Load data\n",
    "dataset_path = 'Dataset'\n",
    "X, y = load_data(dataset_path)"
   ]
  },
  {
   "cell_type": "code",
   "execution_count": 45,
   "metadata": {},
   "outputs": [],
   "source": [
    "# LBP Feature Extraction\n",
    "def extract_lbp_features(img, P=8, R=1):\n",
    "    gray = cv2.cvtColor(img, cv2.COLOR_BGR2GRAY)\n",
    "    lbp = local_binary_pattern(gray, P=P, R=R, method='uniform')\n",
    "    hist, _ = np.histogram(lbp, bins=np.arange(0, P+3), range=(0, P+2))\n",
    "    hist = hist.astype('float')\n",
    "    hist /= (hist.sum() + 1e-6)\n",
    "    return hist\n",
    "\n",
    "# HOG Feature Extraction\n",
    "def extract_hog_features(img, orientations=9, pixels_per_cell=(8, 8), cells_per_block=(2, 2)):\n",
    "    gray = cv2.cvtColor(img, cv2.COLOR_BGR2GRAY)\n",
    "    features, _ = hog(gray, orientations=orientations, pixels_per_cell=pixels_per_cell, cells_per_block=cells_per_block, block_norm='L2-Hys', visualize=True)\n",
    "    return features\n",
    "\n",
    "# Color Histogram Feature Extraction\n",
    "def extract_color_features(img, h_range=(0, 128), s_range=(100, 150), v_range=(0, 128)):\n",
    "    hsv = cv2.cvtColor(img, cv2.COLOR_BGR2HSV)\n",
    "    hist_h = cv2.calcHist([hsv], [0], None, [256], h_range)\n",
    "    hist_s = cv2.calcHist([hsv], [1], None, [256], s_range)\n",
    "    hist_v = cv2.calcHist([hsv], [2], None, [256], v_range)\n",
    "    hist_h /= hist_h.sum() + 1e-6\n",
    "    hist_s /= hist_s.sum() + 1e-6\n",
    "    hist_v /= hist_v.sum() + 1e-6\n",
    "    return np.concatenate([hist_h.flatten(), hist_s.flatten(), hist_v.flatten()])\n",
    "\n",
    "# GLCM Feature Extraction\n",
    "def extract_glcm_features(img, distances=[5], angles=[0], properties=('contrast', 'dissimilarity', 'homogeneity', 'energy', 'correlation')):\n",
    "    gray = cv2.cvtColor(img, cv2.COLOR_BGR2GRAY)\n",
    "    glcm = graycomatrix(gray, distances=distances, angles=angles, levels=256, symmetric=True, normed=True)\n",
    "    glcm_features = []\n",
    "    for prop in properties:\n",
    "        glcm_features.append(graycoprops(glcm, prop).flatten())\n",
    "    return np.concatenate(glcm_features)\n",
    "\n",
    "# Combined Feature Extraction\n",
    "def extract_combined_features(img, h_range=(0, 128), s_range=(100, 150), v_range=(0, 128)):\n",
    "    lbp_features = extract_lbp_features(img)\n",
    "    hog_features = extract_hog_features(img)\n",
    "    color_features = extract_color_features(cv2.cvtColor(img, cv2.COLOR_GRAY2BGR), h_range, s_range, v_range)\n",
    "    glcm_features = extract_glcm_features(img)\n",
    "    return np.concatenate([lbp_features, hog_features, color_features, glcm_features])\n",
    "\n",
    "# Example usage with training a model\n",
    "def train_model_with_combined_features(X_images, y_labels, h_range=(0, 128), s_range=(100, 150), v_range=(0, 128)):\n",
    "\n",
    "    # Extract features for all images\n",
    "    X_features1 = np.array([extract_combined_features(img, h_range, s_range, v_range) for img in X_images])\n",
    "    X_features2 = np.array([extract_glcm_features(img) for img in X_images])\n",
    "\n",
    "    # Split into training and validation sets\n",
    "    X_train, X_val, y_train, y_val = train_test_split(X_features1, y_labels, test_size=0.2, random_state=42)\n",
    "    X2_train, X2_val, y2_train, y2_val = train_test_split(X_features2, y_labels, test_size=0.2, random_state=42)\n",
    "\n",
    "    # Train a classifier (SVC)\n",
    "    base_models = [\n",
    "        ('svm', SVC(kernel='linear', probability=True)),\n",
    "        ('rf', RandomForestClassifier(n_estimators=100, random_state=42)),\n",
    "        ('xgb', XGBClassifier(use_label_encoder=False, eval_metric='mlogloss', random_state=42))\n",
    "    ]\n",
    "    # Meta-model\n",
    "    meta_model = LogisticRegression(multi_class='multinomial', solver='lbfgs')\n",
    "    \n",
    "    # Stacking Classifier\n",
    "    stacking_clf = StackingClassifier(estimators=base_models, final_estimator=meta_model, cv=5)\n",
    "    stacking_clf2 = StackingClassifier(estimators=base_models, final_estimator=meta_model, cv=5)\n",
    "    stacking_clf.fit(X_train, y_train)\n",
    "    stacking_clf2.fit(X2_train, y2_train)\n",
    "    \n",
    "    # Evaluate model\n",
    "    y_pred = stacking_clf.predict(X_val)\n",
    "    y2_pred = stacking_clf2.predict(X2_val)\n",
    "    accuracy = accuracy_score(y_val, y_pred)\n",
    "    accuracy2 = accuracy_score(y2_val, y2_pred)\n",
    "    print(f\"Validation Accuracy With Skin Segmentation:\")\n",
    "    print(classification_report(y_val, y_pred))\n",
    "    print(f\"Validation Accuracy With GLCM Only:\")\n",
    "    print(classification_report(y2_val, y2_pred))\n",
    "    \n",
    "    return stacking_clf\n"
   ]
  },
  {
   "cell_type": "code",
   "execution_count": 47,
   "metadata": {},
   "outputs": [
    {
     "ename": "error",
     "evalue": "OpenCV(4.10.0) d:\\a\\opencv-python\\opencv-python\\opencv\\modules\\imgproc\\src\\color.simd_helpers.hpp:92: error: (-2:Unspecified error) in function '__cdecl cv::impl::`anonymous-namespace'::CvtHelper<struct cv::impl::`anonymous namespace'::Set<3,4,-1>,struct cv::impl::A0x46dff480::Set<1,-1,-1>,struct cv::impl::A0x46dff480::Set<0,2,5>,4>::CvtHelper(const class cv::_InputArray &,const class cv::_OutputArray &,int)'\n> Invalid number of channels in input image:\n>     'VScn::contains(scn)'\n> where\n>     'scn' is 1\n",
     "output_type": "error",
     "traceback": [
      "\u001b[1;31m---------------------------------------------------------------------------\u001b[0m",
      "\u001b[1;31merror\u001b[0m                                     Traceback (most recent call last)",
      "Cell \u001b[1;32mIn[47], line 1\u001b[0m\n\u001b[1;32m----> 1\u001b[0m model \u001b[38;5;241m=\u001b[39m \u001b[43mtrain_model_with_combined_features\u001b[49m\u001b[43m(\u001b[49m\u001b[43mX\u001b[49m\u001b[43m,\u001b[49m\u001b[43m \u001b[49m\u001b[43my\u001b[49m\u001b[43m)\u001b[49m\n",
      "Cell \u001b[1;32mIn[45], line 48\u001b[0m, in \u001b[0;36mtrain_model_with_combined_features\u001b[1;34m(X_images, y_labels, h_range, s_range, v_range)\u001b[0m\n\u001b[0;32m     45\u001b[0m \u001b[38;5;28;01mdef\u001b[39;00m \u001b[38;5;21mtrain_model_with_combined_features\u001b[39m(X_images, y_labels, h_range\u001b[38;5;241m=\u001b[39m(\u001b[38;5;241m0\u001b[39m, \u001b[38;5;241m128\u001b[39m), s_range\u001b[38;5;241m=\u001b[39m(\u001b[38;5;241m100\u001b[39m, \u001b[38;5;241m150\u001b[39m), v_range\u001b[38;5;241m=\u001b[39m(\u001b[38;5;241m0\u001b[39m, \u001b[38;5;241m128\u001b[39m)):\n\u001b[0;32m     46\u001b[0m \n\u001b[0;32m     47\u001b[0m     \u001b[38;5;66;03m# Extract features for all images\u001b[39;00m\n\u001b[1;32m---> 48\u001b[0m     X_features1 \u001b[38;5;241m=\u001b[39m np\u001b[38;5;241m.\u001b[39marray([\u001b[43mextract_combined_features\u001b[49m\u001b[43m(\u001b[49m\u001b[43mimg\u001b[49m\u001b[43m,\u001b[49m\u001b[43m \u001b[49m\u001b[43mh_range\u001b[49m\u001b[43m,\u001b[49m\u001b[43m \u001b[49m\u001b[43ms_range\u001b[49m\u001b[43m,\u001b[49m\u001b[43m \u001b[49m\u001b[43mv_range\u001b[49m\u001b[43m)\u001b[49m \u001b[38;5;28;01mfor\u001b[39;00m img \u001b[38;5;129;01min\u001b[39;00m X_images])\n\u001b[0;32m     49\u001b[0m     X_features2 \u001b[38;5;241m=\u001b[39m np\u001b[38;5;241m.\u001b[39marray([extract_glcm_features(img) \u001b[38;5;28;01mfor\u001b[39;00m img \u001b[38;5;129;01min\u001b[39;00m X_images])\n\u001b[0;32m     51\u001b[0m     \u001b[38;5;66;03m# Split into training and validation sets\u001b[39;00m\n",
      "Cell \u001b[1;32mIn[45], line 38\u001b[0m, in \u001b[0;36mextract_combined_features\u001b[1;34m(img, h_range, s_range, v_range)\u001b[0m\n\u001b[0;32m     37\u001b[0m \u001b[38;5;28;01mdef\u001b[39;00m \u001b[38;5;21mextract_combined_features\u001b[39m(img, h_range\u001b[38;5;241m=\u001b[39m(\u001b[38;5;241m0\u001b[39m, \u001b[38;5;241m128\u001b[39m), s_range\u001b[38;5;241m=\u001b[39m(\u001b[38;5;241m100\u001b[39m, \u001b[38;5;241m150\u001b[39m), v_range\u001b[38;5;241m=\u001b[39m(\u001b[38;5;241m0\u001b[39m, \u001b[38;5;241m128\u001b[39m)):\n\u001b[1;32m---> 38\u001b[0m     lbp_features \u001b[38;5;241m=\u001b[39m \u001b[43mextract_lbp_features\u001b[49m\u001b[43m(\u001b[49m\u001b[43mimg\u001b[49m\u001b[43m)\u001b[49m\n\u001b[0;32m     39\u001b[0m     hog_features \u001b[38;5;241m=\u001b[39m extract_hog_features(img)\n\u001b[0;32m     40\u001b[0m     color_features \u001b[38;5;241m=\u001b[39m extract_color_features(cv2\u001b[38;5;241m.\u001b[39mcvtColor(img, cv2\u001b[38;5;241m.\u001b[39mCOLOR_GRAY2BGR), h_range, s_range, v_range)\n",
      "Cell \u001b[1;32mIn[45], line 3\u001b[0m, in \u001b[0;36mextract_lbp_features\u001b[1;34m(img, P, R)\u001b[0m\n\u001b[0;32m      2\u001b[0m \u001b[38;5;28;01mdef\u001b[39;00m \u001b[38;5;21mextract_lbp_features\u001b[39m(img, P\u001b[38;5;241m=\u001b[39m\u001b[38;5;241m8\u001b[39m, R\u001b[38;5;241m=\u001b[39m\u001b[38;5;241m1\u001b[39m):\n\u001b[1;32m----> 3\u001b[0m     gray \u001b[38;5;241m=\u001b[39m \u001b[43mcv2\u001b[49m\u001b[38;5;241;43m.\u001b[39;49m\u001b[43mcvtColor\u001b[49m\u001b[43m(\u001b[49m\u001b[43mimg\u001b[49m\u001b[43m,\u001b[49m\u001b[43m \u001b[49m\u001b[43mcv2\u001b[49m\u001b[38;5;241;43m.\u001b[39;49m\u001b[43mCOLOR_BGR2GRAY\u001b[49m\u001b[43m)\u001b[49m\n\u001b[0;32m      4\u001b[0m     lbp \u001b[38;5;241m=\u001b[39m local_binary_pattern(gray, P\u001b[38;5;241m=\u001b[39mP, R\u001b[38;5;241m=\u001b[39mR, method\u001b[38;5;241m=\u001b[39m\u001b[38;5;124m'\u001b[39m\u001b[38;5;124muniform\u001b[39m\u001b[38;5;124m'\u001b[39m)\n\u001b[0;32m      5\u001b[0m     hist, _ \u001b[38;5;241m=\u001b[39m np\u001b[38;5;241m.\u001b[39mhistogram(lbp, bins\u001b[38;5;241m=\u001b[39mnp\u001b[38;5;241m.\u001b[39marange(\u001b[38;5;241m0\u001b[39m, P\u001b[38;5;241m+\u001b[39m\u001b[38;5;241m3\u001b[39m), \u001b[38;5;28mrange\u001b[39m\u001b[38;5;241m=\u001b[39m(\u001b[38;5;241m0\u001b[39m, P\u001b[38;5;241m+\u001b[39m\u001b[38;5;241m2\u001b[39m))\n",
      "\u001b[1;31merror\u001b[0m: OpenCV(4.10.0) d:\\a\\opencv-python\\opencv-python\\opencv\\modules\\imgproc\\src\\color.simd_helpers.hpp:92: error: (-2:Unspecified error) in function '__cdecl cv::impl::`anonymous-namespace'::CvtHelper<struct cv::impl::`anonymous namespace'::Set<3,4,-1>,struct cv::impl::A0x46dff480::Set<1,-1,-1>,struct cv::impl::A0x46dff480::Set<0,2,5>,4>::CvtHelper(const class cv::_InputArray &,const class cv::_OutputArray &,int)'\n> Invalid number of channels in input image:\n>     'VScn::contains(scn)'\n> where\n>     'scn' is 1\n"
     ]
    }
   ],
   "source": [
    "model = train_model_with_combined_features(X, y)"
   ]
  },
  {
   "cell_type": "code",
   "execution_count": 33,
   "metadata": {},
   "outputs": [],
   "source": [
    "file = open('udahpakeisskin.pkl', 'wb')\n",
    "pickle.dump(model, file)\n",
    "file.close()"
   ]
  },
  {
   "cell_type": "code",
   "execution_count": null,
   "metadata": {},
   "outputs": [],
   "source": [
    "history = model.fit(\n",
    "    X_train, y_train, \n",
    "    epochs=10, \n",
    "    batch_size=32, \n",
    "    validation_split=0.2\n",
    ")"
   ]
  },
  {
   "cell_type": "code",
   "execution_count": 44,
   "metadata": {},
   "outputs": [
    {
     "ename": "error",
     "evalue": "OpenCV(4.10.0) d:\\a\\opencv-python\\opencv-python\\opencv\\modules\\imgproc\\src\\color.simd_helpers.hpp:92: error: (-2:Unspecified error) in function '__cdecl cv::impl::`anonymous-namespace'::CvtHelper<struct cv::impl::`anonymous namespace'::Set<3,4,-1>,struct cv::impl::A0x46dff480::Set<1,-1,-1>,struct cv::impl::A0x46dff480::Set<0,2,5>,4>::CvtHelper(const class cv::_InputArray &,const class cv::_OutputArray &,int)'\n> Invalid number of channels in input image:\n>     'VScn::contains(scn)'\n> where\n>     'scn' is 1\n",
     "output_type": "error",
     "traceback": [
      "\u001b[1;31m---------------------------------------------------------------------------\u001b[0m",
      "\u001b[1;31merror\u001b[0m                                     Traceback (most recent call last)",
      "Cell \u001b[1;32mIn[44], line 1\u001b[0m\n\u001b[1;32m----> 1\u001b[0m X_features1 \u001b[38;5;241m=\u001b[39m np\u001b[38;5;241m.\u001b[39marray([\u001b[43mextract_combined_features\u001b[49m\u001b[43m(\u001b[49m\u001b[43mimg\u001b[49m\u001b[43m)\u001b[49m \u001b[38;5;28;01mfor\u001b[39;00m img \u001b[38;5;129;01min\u001b[39;00m X])\n\u001b[0;32m      2\u001b[0m X_train, X_val, y_train, y_val \u001b[38;5;241m=\u001b[39m train_test_split(X_features1, y, test_size\u001b[38;5;241m=\u001b[39m\u001b[38;5;241m0.2\u001b[39m, random_state\u001b[38;5;241m=\u001b[39m\u001b[38;5;241m42\u001b[39m)\n",
      "Cell \u001b[1;32mIn[42], line 38\u001b[0m, in \u001b[0;36mextract_combined_features\u001b[1;34m(img, h_range, s_range, v_range)\u001b[0m\n\u001b[0;32m     37\u001b[0m \u001b[38;5;28;01mdef\u001b[39;00m \u001b[38;5;21mextract_combined_features\u001b[39m(img, h_range\u001b[38;5;241m=\u001b[39m(\u001b[38;5;241m0\u001b[39m, \u001b[38;5;241m128\u001b[39m), s_range\u001b[38;5;241m=\u001b[39m(\u001b[38;5;241m100\u001b[39m, \u001b[38;5;241m150\u001b[39m), v_range\u001b[38;5;241m=\u001b[39m(\u001b[38;5;241m0\u001b[39m, \u001b[38;5;241m128\u001b[39m)):\n\u001b[1;32m---> 38\u001b[0m     lbp_features \u001b[38;5;241m=\u001b[39m \u001b[43mextract_lbp_features\u001b[49m\u001b[43m(\u001b[49m\u001b[43mimg\u001b[49m\u001b[43m)\u001b[49m\n\u001b[0;32m     39\u001b[0m     hog_features \u001b[38;5;241m=\u001b[39m extract_hog_features(img)\n\u001b[0;32m     40\u001b[0m     color_features \u001b[38;5;241m=\u001b[39m extract_color_features(cv2\u001b[38;5;241m.\u001b[39mcvtColor(img, cv2\u001b[38;5;241m.\u001b[39mCOLOR_GRAY2BGR), h_range, s_range, v_range)\n",
      "Cell \u001b[1;32mIn[42], line 3\u001b[0m, in \u001b[0;36mextract_lbp_features\u001b[1;34m(img, P, R)\u001b[0m\n\u001b[0;32m      2\u001b[0m \u001b[38;5;28;01mdef\u001b[39;00m \u001b[38;5;21mextract_lbp_features\u001b[39m(img, P\u001b[38;5;241m=\u001b[39m\u001b[38;5;241m8\u001b[39m, R\u001b[38;5;241m=\u001b[39m\u001b[38;5;241m1\u001b[39m):\n\u001b[1;32m----> 3\u001b[0m     gray \u001b[38;5;241m=\u001b[39m \u001b[43mcv2\u001b[49m\u001b[38;5;241;43m.\u001b[39;49m\u001b[43mcvtColor\u001b[49m\u001b[43m(\u001b[49m\u001b[43mimg\u001b[49m\u001b[43m,\u001b[49m\u001b[43m \u001b[49m\u001b[43mcv2\u001b[49m\u001b[38;5;241;43m.\u001b[39;49m\u001b[43mCOLOR_BGR2GRAY\u001b[49m\u001b[43m)\u001b[49m\n\u001b[0;32m      4\u001b[0m     lbp \u001b[38;5;241m=\u001b[39m local_binary_pattern(gray, P\u001b[38;5;241m=\u001b[39mP, R\u001b[38;5;241m=\u001b[39mR, method\u001b[38;5;241m=\u001b[39m\u001b[38;5;124m'\u001b[39m\u001b[38;5;124muniform\u001b[39m\u001b[38;5;124m'\u001b[39m)\n\u001b[0;32m      5\u001b[0m     hist, _ \u001b[38;5;241m=\u001b[39m np\u001b[38;5;241m.\u001b[39mhistogram(lbp, bins\u001b[38;5;241m=\u001b[39mnp\u001b[38;5;241m.\u001b[39marange(\u001b[38;5;241m0\u001b[39m, P\u001b[38;5;241m+\u001b[39m\u001b[38;5;241m3\u001b[39m), \u001b[38;5;28mrange\u001b[39m\u001b[38;5;241m=\u001b[39m(\u001b[38;5;241m0\u001b[39m, P\u001b[38;5;241m+\u001b[39m\u001b[38;5;241m2\u001b[39m))\n",
      "\u001b[1;31merror\u001b[0m: OpenCV(4.10.0) d:\\a\\opencv-python\\opencv-python\\opencv\\modules\\imgproc\\src\\color.simd_helpers.hpp:92: error: (-2:Unspecified error) in function '__cdecl cv::impl::`anonymous-namespace'::CvtHelper<struct cv::impl::`anonymous namespace'::Set<3,4,-1>,struct cv::impl::A0x46dff480::Set<1,-1,-1>,struct cv::impl::A0x46dff480::Set<0,2,5>,4>::CvtHelper(const class cv::_InputArray &,const class cv::_OutputArray &,int)'\n> Invalid number of channels in input image:\n>     'VScn::contains(scn)'\n> where\n>     'scn' is 1\n"
     ]
    }
   ],
   "source": [
    "X_features1 = np.array([extract_combined_features(img) for img in X])\n",
    "X_train, X_val, y_train, y_val = train_test_split(X_features1, y, test_size=0.2, random_state=42)"
   ]
  },
  {
   "cell_type": "code",
   "execution_count": 36,
   "metadata": {},
   "outputs": [],
   "source": [
    "def train_model_with_combined_features2(X_images, y_labels, h_range=(0, 128), s_range=(100, 150), v_range=(0, 128)):\n",
    "    # Extract features for all images\n",
    "    X_features1 = np.array([extract_combined_features(img, h_range, s_range, v_range) for img in X_images])\n",
    "\n",
    "    # X_features2 = np.array([extract_glcm_features(img) for img in X_images])\n",
    "    # Split into training and validation sets\n",
    "    X_train, X_val, y_train, y_val = train_test_split(X_features1, y_labels, test_size=0.2, random_state=42)\n",
    "\n",
    "    return y_val\n"
   ]
  },
  {
   "cell_type": "code",
   "execution_count": 39,
   "metadata": {},
   "outputs": [
    {
     "ename": "error",
     "evalue": "OpenCV(4.10.0) d:\\a\\opencv-python\\opencv-python\\opencv\\modules\\imgproc\\src\\color.simd_helpers.hpp:92: error: (-2:Unspecified error) in function '__cdecl cv::impl::`anonymous-namespace'::CvtHelper<struct cv::impl::`anonymous namespace'::Set<3,4,-1>,struct cv::impl::A0x9faa3a91::Set<3,-1,-1>,struct cv::impl::A0x9faa3a91::Set<0,5,-1>,4>::CvtHelper(const class cv::_InputArray &,const class cv::_OutputArray &,int)'\n> Invalid number of channels in input image:\n>     'VScn::contains(scn)'\n> where\n>     'scn' is 1\n",
     "output_type": "error",
     "traceback": [
      "\u001b[1;31m---------------------------------------------------------------------------\u001b[0m",
      "\u001b[1;31merror\u001b[0m                                     Traceback (most recent call last)",
      "Cell \u001b[1;32mIn[39], line 1\u001b[0m\n\u001b[1;32m----> 1\u001b[0m y_val \u001b[38;5;241m=\u001b[39m \u001b[43mtrain_model_with_combined_features2\u001b[49m\u001b[43m(\u001b[49m\u001b[43mX\u001b[49m\u001b[43m,\u001b[49m\u001b[43m \u001b[49m\u001b[43my\u001b[49m\u001b[43m)\u001b[49m\n",
      "Cell \u001b[1;32mIn[36], line 52\u001b[0m, in \u001b[0;36mtrain_model_with_combined_features2\u001b[1;34m(X_images, y_labels, h_range, s_range, v_range)\u001b[0m\n\u001b[0;32m     50\u001b[0m \u001b[38;5;28;01mdef\u001b[39;00m \u001b[38;5;21mtrain_model_with_combined_features2\u001b[39m(X_images, y_labels, h_range\u001b[38;5;241m=\u001b[39m(\u001b[38;5;241m0\u001b[39m, \u001b[38;5;241m128\u001b[39m), s_range\u001b[38;5;241m=\u001b[39m(\u001b[38;5;241m100\u001b[39m, \u001b[38;5;241m150\u001b[39m), v_range\u001b[38;5;241m=\u001b[39m(\u001b[38;5;241m0\u001b[39m, \u001b[38;5;241m128\u001b[39m)):\n\u001b[0;32m     51\u001b[0m     \u001b[38;5;66;03m# Extract features for all images\u001b[39;00m\n\u001b[1;32m---> 52\u001b[0m     X_features1 \u001b[38;5;241m=\u001b[39m np\u001b[38;5;241m.\u001b[39marray([\u001b[43mextract_combined_features\u001b[49m\u001b[43m(\u001b[49m\u001b[43mimg\u001b[49m\u001b[43m,\u001b[49m\u001b[43m \u001b[49m\u001b[43mh_range\u001b[49m\u001b[43m,\u001b[49m\u001b[43m \u001b[49m\u001b[43ms_range\u001b[49m\u001b[43m,\u001b[49m\u001b[43m \u001b[49m\u001b[43mv_range\u001b[49m\u001b[43m)\u001b[49m \u001b[38;5;28;01mfor\u001b[39;00m img \u001b[38;5;129;01min\u001b[39;00m X_images])\n\u001b[0;32m     54\u001b[0m     \u001b[38;5;66;03m# X_features2 = np.array([extract_glcm_features(img) for img in X_images])\u001b[39;00m\n\u001b[0;32m     55\u001b[0m     \u001b[38;5;66;03m# Split into training and validation sets\u001b[39;00m\n\u001b[0;32m     56\u001b[0m     X_train, X_val, y_train, y_val \u001b[38;5;241m=\u001b[39m train_test_split(X_features1, y_labels, test_size\u001b[38;5;241m=\u001b[39m\u001b[38;5;241m0.2\u001b[39m, random_state\u001b[38;5;241m=\u001b[39m\u001b[38;5;241m42\u001b[39m)\n",
      "Cell \u001b[1;32mIn[36], line 39\u001b[0m, in \u001b[0;36mextract_combined_features\u001b[1;34m(img, h_range, s_range, v_range)\u001b[0m\n\u001b[0;32m     37\u001b[0m \u001b[38;5;28;01mdef\u001b[39;00m \u001b[38;5;21mextract_combined_features\u001b[39m(img, h_range\u001b[38;5;241m=\u001b[39m(\u001b[38;5;241m0\u001b[39m, \u001b[38;5;241m128\u001b[39m), s_range\u001b[38;5;241m=\u001b[39m(\u001b[38;5;241m100\u001b[39m, \u001b[38;5;241m150\u001b[39m), v_range\u001b[38;5;241m=\u001b[39m(\u001b[38;5;241m0\u001b[39m, \u001b[38;5;241m128\u001b[39m)):\n\u001b[1;32m---> 39\u001b[0m     gray \u001b[38;5;241m=\u001b[39m \u001b[43mextract_skin_and_preprocess\u001b[49m\u001b[43m(\u001b[49m\u001b[43mimg\u001b[49m\u001b[43m)\u001b[49m\n\u001b[0;32m     40\u001b[0m     \u001b[38;5;28;01mif\u001b[39;00m gray \u001b[38;5;129;01mis\u001b[39;00m \u001b[38;5;28;01mNone\u001b[39;00m:\n\u001b[0;32m     41\u001b[0m         \u001b[38;5;28;01mreturn\u001b[39;00m \u001b[38;5;28;01mNone\u001b[39;00m\n",
      "Cell \u001b[1;32mIn[31], line 8\u001b[0m, in \u001b[0;36mextract_skin_and_preprocess\u001b[1;34m(img)\u001b[0m\n\u001b[0;32m      3\u001b[0m \u001b[38;5;28;01mdef\u001b[39;00m \u001b[38;5;21mextract_skin_and_preprocess\u001b[39m(img):\n\u001b[0;32m      4\u001b[0m     \u001b[38;5;66;03m# img = cv2.imread(str(image_path))\u001b[39;00m\n\u001b[0;32m      5\u001b[0m     \u001b[38;5;66;03m# if img is None:\u001b[39;00m\n\u001b[0;32m      6\u001b[0m     \u001b[38;5;66;03m#     print(f\"Failed to load {image_path}. Skipping.\")\u001b[39;00m\n\u001b[0;32m      7\u001b[0m     \u001b[38;5;66;03m#     return None\u001b[39;00m\n\u001b[1;32m----> 8\u001b[0m     skin_img \u001b[38;5;241m=\u001b[39m \u001b[43misskin\u001b[49m\u001b[43m(\u001b[49m\u001b[43mimg\u001b[49m\u001b[43m)\u001b[49m\n\u001b[0;32m     10\u001b[0m     \u001b[38;5;28;01mif\u001b[39;00m skin_img\u001b[38;5;241m.\u001b[39mshape[\u001b[38;5;241m2\u001b[39m] \u001b[38;5;241m==\u001b[39m \u001b[38;5;241m4\u001b[39m:\n\u001b[0;32m     11\u001b[0m         skin_img \u001b[38;5;241m=\u001b[39m skin_img[:, :, :\u001b[38;5;241m3\u001b[39m] \n",
      "Cell \u001b[1;32mIn[25], line 11\u001b[0m, in \u001b[0;36misskin\u001b[1;34m(image)\u001b[0m\n\u001b[0;32m      8\u001b[0m v_max \u001b[38;5;241m=\u001b[39m \u001b[38;5;241m128\u001b[39m\n\u001b[0;32m     10\u001b[0m \u001b[38;5;66;03m# Convert the image to HSV color space\u001b[39;00m\n\u001b[1;32m---> 11\u001b[0m hsv_image \u001b[38;5;241m=\u001b[39m \u001b[43mcv2\u001b[49m\u001b[38;5;241;43m.\u001b[39;49m\u001b[43mcvtColor\u001b[49m\u001b[43m(\u001b[49m\u001b[43mimage\u001b[49m\u001b[43m,\u001b[49m\u001b[43m \u001b[49m\u001b[43mcv2\u001b[49m\u001b[38;5;241;43m.\u001b[39;49m\u001b[43mCOLOR_BGR2HSV\u001b[49m\u001b[43m)\u001b[49m\n\u001b[0;32m     13\u001b[0m \u001b[38;5;66;03m# Define lower and upper bounds for skin detection\u001b[39;00m\n\u001b[0;32m     14\u001b[0m lower_hsv \u001b[38;5;241m=\u001b[39m np\u001b[38;5;241m.\u001b[39marray([h_min, s_min, v_min])\n",
      "\u001b[1;31merror\u001b[0m: OpenCV(4.10.0) d:\\a\\opencv-python\\opencv-python\\opencv\\modules\\imgproc\\src\\color.simd_helpers.hpp:92: error: (-2:Unspecified error) in function '__cdecl cv::impl::`anonymous-namespace'::CvtHelper<struct cv::impl::`anonymous namespace'::Set<3,4,-1>,struct cv::impl::A0x9faa3a91::Set<3,-1,-1>,struct cv::impl::A0x9faa3a91::Set<0,5,-1>,4>::CvtHelper(const class cv::_InputArray &,const class cv::_OutputArray &,int)'\n> Invalid number of channels in input image:\n>     'VScn::contains(scn)'\n> where\n>     'scn' is 1\n"
     ]
    }
   ],
   "source": [
    "y_val = train_model_with_combined_features2(X, y)"
   ]
  }
 ],
 "metadata": {
  "kernelspec": {
   "display_name": "computer_vision",
   "language": "python",
   "name": "python3"
  },
  "language_info": {
   "codemirror_mode": {
    "name": "ipython",
    "version": 3
   },
   "file_extension": ".py",
   "mimetype": "text/x-python",
   "name": "python",
   "nbconvert_exporter": "python",
   "pygments_lexer": "ipython3",
   "version": "3.11.8"
  }
 },
 "nbformat": 4,
 "nbformat_minor": 2
}
