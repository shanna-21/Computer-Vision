{
 "cells": [
  {
   "cell_type": "code",
   "execution_count": 13,
   "metadata": {},
   "outputs": [
    {
     "data": {
      "text/plain": [
       "-1"
      ]
     },
     "execution_count": 13,
     "metadata": {},
     "output_type": "execute_result"
    }
   ],
   "source": [
    "import cv2\n",
    "IMG_SIZE = 128\n",
    "\n",
    "\n",
    "path = './Dataset/Acne/10/Acne-test.jpg'\n",
    "path = cv2.imread(str(path))\n",
    "denoised = cv2.fastNlMeansDenoising(path, h=10)\n",
    "\n",
    "img_resized = cv2.resize(denoised, (IMG_SIZE, IMG_SIZE))\n",
    "\n",
    "# Convert to grayscale\n",
    "gray = cv2.cvtColor(img_resized, cv2.COLOR_BGR2GRAY)\n",
    "\n",
    "cv2.imshow('ori', path)\n",
    "cv2.imshow('denoised', denoised)\n",
    "cv2.imshow('resize', img_resized)\n",
    "\n",
    "cv2.imshow('final', gray)\n",
    "cv2.waitKey(0)"
   ]
  }
 ],
 "metadata": {
  "kernelspec": {
   "display_name": "computer_vision",
   "language": "python",
   "name": "python3"
  },
  "language_info": {
   "codemirror_mode": {
    "name": "ipython",
    "version": 3
   },
   "file_extension": ".py",
   "mimetype": "text/x-python",
   "name": "python",
   "nbconvert_exporter": "python",
   "pygments_lexer": "ipython3",
   "version": "3.11.8"
  }
 },
 "nbformat": 4,
 "nbformat_minor": 2
}
